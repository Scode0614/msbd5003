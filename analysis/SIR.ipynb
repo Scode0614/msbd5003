{
  "nbformat": 4,
  "nbformat_minor": 0,
  "metadata": {
    "colab": {
      "name": "SIR.ipynb",
      "provenance": []
    },
    "kernelspec": {
      "display_name": "Python 3",
      "name": "python3"
    }
  },
  "cells": [
    {
      "cell_type": "code",
      "metadata": {
        "id": "i-hDCuVAYO15"
      },
      "source": [
        "import numpy as np\n",
        "%matplotlib inline\n",
        "import matplotlib.pyplot as plt\n",
        "from scipy import integrate, optimize\n",
        "import pandas as pd\n",
        "from sklearn.metrics import mean_squared_error, mean_absolute_error"
      ],
      "execution_count": null,
      "outputs": []
    },
    {
      "cell_type": "markdown",
      "metadata": {
        "id": "rmgcjoSWck3I"
      },
      "source": [
        "# **USA**"
      ]
    },
    {
      "cell_type": "code",
      "metadata": {
        "colab": {
          "base_uri": "https://localhost:8080/"
        },
        "id": "MS-PPVimbdVE",
        "outputId": "9b736048-5f27-4b18-cef6-e07c2f57ed6e"
      },
      "source": [
        "data = pd.read_csv('USA.csv')\n",
        "data = data.fillna(value=0)\n",
        "start = 35\n",
        "new_cases = data['new_cases'][start:]\n",
        "print(new_cases)"
      ],
      "execution_count": null,
      "outputs": [
        {
          "output_type": "stream",
          "text": [
            "35         18\n",
            "36          0\n",
            "37          6\n",
            "38          1\n",
            "39          6\n",
            "        ...  \n",
            "300    132170\n",
            "301    168425\n",
            "302    154316\n",
            "303    170005\n",
            "304    188020\n",
            "Name: new_cases, Length: 270, dtype: int64\n"
          ],
          "name": "stdout"
        }
      ]
    },
    {
      "cell_type": "code",
      "metadata": {
        "id": "S2lw8r6Rb3G1"
      },
      "source": [
        "ydata = np.array(new_cases, dtype=float)\n",
        "xdata = np.array(new_cases.index, dtype=float)\n",
        "xdatap = xdata"
      ],
      "execution_count": null,
      "outputs": []
    },
    {
      "cell_type": "code",
      "metadata": {
        "id": "QQITrdUZbhFP"
      },
      "source": [
        "def sir_model(y, x, beta, gamma):\n",
        "    S = -beta * y[0] * y[1] / N\n",
        "    R = gamma * y[1]\n",
        "    I = -(S + R)\n",
        "    \n",
        "    return S, I, R\n",
        "\n",
        "def fit_odeint(x, beta, gamma):\n",
        "    return integrate.odeint(sir_model, (S0, I0, R0), x, args=(beta, gamma))[:,1]"
      ],
      "execution_count": null,
      "outputs": []
    },
    {
      "cell_type": "code",
      "metadata": {
        "id": "NV9Hnantox61"
      },
      "source": [
        "def logistic(t,K,P0,r):\n",
        "    exp_value=np.exp(r*(t))\n",
        "    return (K*exp_value*41)/(K+(exp_value-1)*41)"
      ],
      "execution_count": null,
      "outputs": []
    },
    {
      "cell_type": "code",
      "metadata": {
        "id": "zU16Ta1esAht"
      },
      "source": [
        "def seir_model(y, x, beta, gamma, alpha, epsilon):\n",
        "    S = -beta * y[0] * y[1] / N\n",
        "    R = gamma * y[1]\n",
        "    D = alpha * y[1]\n",
        "    I = epsilon * y[3] - R - D\n",
        "    E = -(S + epsilon * y[3])\n",
        "    \n",
        "    return S, I, R, E, D\n",
        "\n",
        "def fit_odeint2(x, beta, gamma, alpha, epsilon):\n",
        "    return integrate.odeint(seir_model, (S0, I0, R0, E0, D0), x, args=(beta, gamma, alpha, epsilon))[:,1]"
      ],
      "execution_count": null,
      "outputs": []
    },
    {
      "cell_type": "code",
      "metadata": {
        "id": "Gor_J3ykbliS"
      },
      "source": [
        "N = 3.3e8\n",
        "I0 = data['total_cases'][start]\n",
        "E0 = 0.0\n",
        "R0 = 0.0\n",
        "D0 = data['total_deaths'][start]\n",
        "S0 = N - I0 - E0 - D0 - R0"
      ],
      "execution_count": null,
      "outputs": []
    },
    {
      "cell_type": "code",
      "metadata": {
        "id": "lg_fJ_aXtGtU"
      },
      "source": [
        "N = 3.3e8\r\n",
        "I0 = data['total_cases'][start]\r\n",
        "R0 = data['total_deaths'][start]\r\n",
        "S0 = N - I0 - R0"
      ],
      "execution_count": null,
      "outputs": []
    },
    {
      "cell_type": "code",
      "metadata": {
        "id": "1qoqTSA2zMpX",
        "colab": {
          "base_uri": "https://localhost:8080/",
          "height": 35
        },
        "outputId": "c2976415-0f6f-45b7-c6a7-b5b4104cee21"
      },
      "source": [
        "\"\"\"\n",
        "last_day = max(xdatap)\n",
        "period = 20\n",
        "for i in range(1,period):\n",
        "  xdatap = np.append(xdatap, last_day+i)\n",
        "\"\"\""
      ],
      "execution_count": null,
      "outputs": [
        {
          "output_type": "execute_result",
          "data": {
            "application/vnd.google.colaboratory.intrinsic+json": {
              "type": "string"
            },
            "text/plain": [
              "'\\nlast_day = max(xdatap)\\nperiod = 20\\nfor i in range(1,period):\\n  xdatap = np.append(xdatap, last_day+i)\\n'"
            ]
          },
          "metadata": {
            "tags": []
          },
          "execution_count": 104
        }
      ]
    },
    {
      "cell_type": "code",
      "metadata": {
        "colab": {
          "base_uri": "https://localhost:8080/"
        },
        "id": "uo9gGYeVbo4K",
        "outputId": "e2ff9f45-19c5-441b-ef2f-51f8b62dc831"
      },
      "source": [
        "popt, pcov = optimize.curve_fit(fit_odeint2, xdata, ydata)\n",
        "fitted = fit_odeint2(xdatap, *popt)\n",
        "\n",
        "print(popt)"
      ],
      "execution_count": null,
      "outputs": [
        {
          "output_type": "stream",
          "text": [
            "/usr/local/lib/python3.6/dist-packages/scipy/integrate/odepack.py:248: ODEintWarning: Excess work done on this call (perhaps wrong Dfun type). Run with full_output = 1 to get quantitative information.\n",
            "  warnings.warn(warning_msg, ODEintWarning)\n",
            "/usr/local/lib/python3.6/dist-packages/ipykernel_launcher.py:2: RuntimeWarning: overflow encountered in double_scalars\n",
            "  \n",
            "/usr/local/lib/python3.6/dist-packages/ipykernel_launcher.py:5: RuntimeWarning: overflow encountered in double_scalars\n",
            "  \"\"\"\n",
            "/usr/local/lib/python3.6/dist-packages/ipykernel_launcher.py:6: RuntimeWarning: overflow encountered in double_scalars\n",
            "  \n"
          ],
          "name": "stderr"
        },
        {
          "output_type": "stream",
          "text": [
            "[1.38592192 0.23463833 0.49092072 0.04822601]\n"
          ],
          "name": "stdout"
        }
      ]
    },
    {
      "cell_type": "code",
      "metadata": {
        "id": "ioLBVtDasIWR"
      },
      "source": [
        "popt, pcov = optimize.curve_fit(fit_odeint, xdata, ydata)\r\n",
        "fitted = fit_odeint(xdatap, *popt)\r\n",
        "\r\n",
        "print(popt)"
      ],
      "execution_count": null,
      "outputs": []
    },
    {
      "cell_type": "code",
      "metadata": {
        "colab": {
          "base_uri": "https://localhost:8080/",
          "height": 265
        },
        "id": "j8LOtFnubqVQ",
        "outputId": "c9979c2e-eed3-4614-ec4d-eb2d338f32cd"
      },
      "source": [
        "plt.plot(xdata, ydata, 'o')\n",
        "plt.plot(xdatap, fitted)\n",
        "plt.show()"
      ],
      "execution_count": null,
      "outputs": [
        {
          "output_type": "display_data",
          "data": {
            "image/png": "[encoded data removed]",
            "text/plain": [
              "<Figure size 432x288 with 1 Axes>"
            ]
          },
          "metadata": {
            "tags": [],
            "needs_background": "light"
          }
        }
      ]
    },
    {
      "cell_type": "code",
      "metadata": {
        "colab": {
          "base_uri": "https://localhost:8080/"
        },
        "id": "MxqTT-TjgHSf",
        "outputId": "cb458c9b-4700-4b6d-8488-513f26d6ee2b"
      },
      "source": [
        "print(f\"(MSE)：{mean_squared_error(ydata, fitted)}\")\n",
        "print(f\"(MSE)：{mean_absolute_error(ydata, fitted)}\")"
      ],
      "execution_count": null,
      "outputs": [
        {
          "output_type": "stream",
          "text": [
            "(MSE)：1007177567.0078942\n",
            "(MSE)：25997.892898880556\n"
          ],
          "name": "stdout"
        }
      ]
    },
    {
      "cell_type": "code",
      "metadata": {
        "id": "RIGNx4iPvfNx"
      },
      "source": [
        "date = data['date'][start:]\n",
        "df = pd.DataFrame({'date': date, 'real_cases': ydata, 'predicted_cases': fitted})\n",
        "df.to_csv('prediction_USA.csv')"
      ],
      "execution_count": null,
      "outputs": []
    },
    {
      "cell_type": "code",
      "metadata": {
        "id": "EPaNerFwv-se"
      },
      "source": [
        "date = data['date'][start:]\n",
        "df = pd.DataFrame({'date': date, 'real_deaths': ydata, 'predicted_deaths': fitted})\n",
        "df.to_csv('death.csv')"
      ],
      "execution_count": null,
      "outputs": []
    },
    {
      "cell_type": "code",
      "metadata": {
        "id": "IujhDNDPIgyW"
      },
      "source": [
        "ydata_death = data['new_deaths'][start:]\n",
        "def fit_odeint2(x, beta, gamma, alpha, epsilon):\n",
        "    return integrate.odeint(seir_model, (S0, I0, R0, E0, D0), x, args=(beta, gamma, alpha, epsilon))[:,4]\n",
        "fitted_death = fit_odeint2(xdatap, *popt)"
      ],
      "execution_count": null,
      "outputs": []
    },
    {
      "cell_type": "code",
      "metadata": {
        "colab": {
          "base_uri": "https://localhost:8080/",
          "height": 276
        },
        "id": "RjWnVcnNJKSs",
        "outputId": "2d586494-aa4f-4ea0-9cca-9b4638acccc1"
      },
      "source": [
        "plt.plot(xdata, ydata_death, 'o')\n",
        "plt.plot(xdatap, fitted_death)\n",
        "plt.show()"
      ],
      "execution_count": null,
      "outputs": [
        {
          "output_type": "display_data",
          "data": {
            "image/png": "[encoded data removed]",
            "text/plain": [
              "<Figure size 432x288 with 1 Axes>"
            ]
          },
          "metadata": {
            "tags": [],
            "needs_background": "light"
          }
        }
      ]
    },
    {
      "cell_type": "markdown",
      "metadata": {
        "id": "jyujjiccch2p"
      },
      "source": [
        "# **China**"
      ]
    },
    {
      "cell_type": "code",
      "metadata": {
        "colab": {
          "base_uri": "https://localhost:8080/"
        },
        "id": "g3T-FpAvcfO5",
        "outputId": "79e5b10c-bbf5-45fe-d081-1de4f69886df"
      },
      "source": [
        "data = pd.read_csv('China.csv')\n",
        "data = data.fillna(value=0)\n",
        "start = 21\n",
        "new_cases = data['new_cases'][start:]\n",
        "print(new_cases)"
      ],
      "execution_count": null,
      "outputs": [
        {
          "output_type": "stream",
          "text": [
            "21     151\n",
            "22     140\n",
            "23      97\n",
            "24     259\n",
            "25     441\n",
            "      ... \n",
            "321      7\n",
            "322     15\n",
            "323      8\n",
            "324     12\n",
            "325     17\n",
            "Name: new_cases, Length: 305, dtype: int64\n"
          ],
          "name": "stdout"
        }
      ]
    },
    {
      "cell_type": "code",
      "metadata": {
        "id": "VUx0U8nGcfO6"
      },
      "source": [
        "ydata = np.array(new_cases, dtype=float)\n",
        "xdata = np.array(new_cases.index, dtype=float)\n",
        "xdatap = xdata"
      ],
      "execution_count": null,
      "outputs": []
    },
    {
      "cell_type": "code",
      "metadata": {
        "id": "l10UTydTcfO6"
      },
      "source": [
        "def sir_model(y, x, beta, gamma):\n",
        "    S = -beta * y[0] * y[1] / N\n",
        "    R = gamma * y[1]\n",
        "    I = -(S + R)\n",
        "    \n",
        "    return S, I, R\n",
        "\n",
        "def fit_odeint(x, beta, gamma):\n",
        "    return integrate.odeint(sir_model, (S0, I0, R0), x, args=(beta, gamma))[:,1]"
      ],
      "execution_count": null,
      "outputs": []
    },
    {
      "cell_type": "code",
      "metadata": {
        "id": "4I11nlZ1cfO6"
      },
      "source": [
        "def logistic(t,K,P0,r):\n",
        "    exp_value=np.exp(r*(t))\n",
        "    return (K*exp_value*41)/(K+(exp_value-1)*41)"
      ],
      "execution_count": null,
      "outputs": []
    },
    {
      "cell_type": "code",
      "metadata": {
        "id": "11-UIY4ecfO6"
      },
      "source": [
        "def seir_model(y, x, beta, gamma, alpha, epsilon):\n",
        "    S = -beta * y[0] * y[1] / N\n",
        "    R = gamma * y[1]\n",
        "    D = alpha * y[1]\n",
        "    I = epsilon * y[3] - R - D\n",
        "    E = -(S + epsilon * y[3])\n",
        "    \n",
        "    return S, I, R, E, D\n",
        "\n",
        "def fit_odeint2(x, beta, gamma, alpha, epsilon):\n",
        "    return integrate.odeint(seir_model, (S0, I0, R0, E0, D0), x, args=(beta, gamma, alpha, epsilon))[:,1]"
      ],
      "execution_count": null,
      "outputs": []
    },
    {
      "cell_type": "code",
      "metadata": {
        "id": "hhldd-KtcfO6"
      },
      "source": [
        "N = 1.1e7\n",
        "I0 = data['total_cases'][start]\n",
        "E0 = 0.0\n",
        "R0 = 0.0\n",
        "D0 = data['total_deaths'][start]\n",
        "S0 = N - I0 - E0 - D0 - R0"
      ],
      "execution_count": null,
      "outputs": []
    },
    {
      "cell_type": "code",
      "metadata": {
        "id": "_fxzrCRZtC-p"
      },
      "source": [
        "N = 1.1e7\r\n",
        "I0 = data['total_cases'][start]\r\n",
        "R0 = data['total_deaths'][start]\r\n",
        "S0 = N - I0 - R0"
      ],
      "execution_count": null,
      "outputs": []
    },
    {
      "cell_type": "code",
      "metadata": {
        "colab": {
          "base_uri": "https://localhost:8080/",
          "height": 35
        },
        "id": "BCCZrK9XcfO6",
        "outputId": "b61439bf-a5c6-467c-816c-5a1e09234775"
      },
      "source": [
        "\"\"\"\n",
        "last_day = max(xdatap)\n",
        "period = 20\n",
        "for i in range(1,period):\n",
        "  xdatap = np.append(xdatap, last_day+i)\n",
        "\"\"\""
      ],
      "execution_count": null,
      "outputs": [
        {
          "output_type": "execute_result",
          "data": {
            "application/vnd.google.colaboratory.intrinsic+json": {
              "type": "string"
            },
            "text/plain": [
              "'\\nlast_day = max(xdatap)\\nperiod = 20\\nfor i in range(1,period):\\n  xdatap = np.append(xdatap, last_day+i)\\n'"
            ]
          },
          "metadata": {
            "tags": []
          },
          "execution_count": 118
        }
      ]
    },
    {
      "cell_type": "code",
      "metadata": {
        "colab": {
          "base_uri": "https://localhost:8080/"
        },
        "id": "n6fRxANpcfO6",
        "outputId": "b470fe2a-5342-4f7e-efd1-abb717d4266a"
      },
      "source": [
        "popt, pcov = optimize.curve_fit(fit_odeint2, xdata, ydata)\n",
        "fitted = fit_odeint2(xdatap, *popt)\n",
        "\n",
        "print(popt)"
      ],
      "execution_count": null,
      "outputs": [
        {
          "output_type": "stream",
          "text": [
            "/usr/local/lib/python3.6/dist-packages/scipy/integrate/odepack.py:248: ODEintWarning: Excess work done on this call (perhaps wrong Dfun type). Run with full_output = 1 to get quantitative information.\n",
            "  warnings.warn(warning_msg, ODEintWarning)\n",
            "/usr/local/lib/python3.6/dist-packages/ipykernel_launcher.py:5: RuntimeWarning: overflow encountered in double_scalars\n",
            "  \"\"\"\n",
            "/usr/local/lib/python3.6/dist-packages/ipykernel_launcher.py:6: RuntimeWarning: overflow encountered in double_scalars\n",
            "  \n"
          ],
          "name": "stderr"
        },
        {
          "output_type": "stream",
          "text": [
            "[  8.75100475   2.4573741    6.0770692  121.85919239]\n"
          ],
          "name": "stdout"
        }
      ]
    },
    {
      "cell_type": "code",
      "metadata": {
        "id": "qIuQJ6_QsTU9"
      },
      "source": [
        "popt, pcov = optimize.curve_fit(fit_odeint, xdata, ydata)\r\n",
        "fitted = fit_odeint(xdatap, *popt)\r\n",
        "\r\n",
        "print(popt)"
      ],
      "execution_count": null,
      "outputs": []
    },
    {
      "cell_type": "code",
      "metadata": {
        "colab": {
          "base_uri": "https://localhost:8080/",
          "height": 265
        },
        "id": "qMfYpjsZcfO6",
        "outputId": "7672aea0-ee45-4eeb-828e-943143e5b7af"
      },
      "source": [
        "plt.plot(xdata, ydata, 'o')\n",
        "plt.plot(xdatap, fitted)\n",
        "plt.show()"
      ],
      "execution_count": null,
      "outputs": [
        {
          "output_type": "display_data",
          "data": {
            "image/png": "[encoded data removed]",
            "text/plain": [
              "<Figure size 432x288 with 1 Axes>"
            ]
          },
          "metadata": {
            "tags": [],
            "needs_background": "light"
          }
        }
      ]
    },
    {
      "cell_type": "code",
      "metadata": {
        "colab": {
          "base_uri": "https://localhost:8080/"
        },
        "id": "EU5zmK41gI5N",
        "outputId": "1eb01812-84cc-47cc-932d-5fdedfbc0476"
      },
      "source": [
        "print(f\"(MSE)：{mean_squared_error(ydata, fitted)}\")\n",
        "print(f\"(MSE)：{mean_absolute_error(ydata, fitted)}\")"
      ],
      "execution_count": null,
      "outputs": [
        {
          "output_type": "stream",
          "text": [
            "(MSE)：567062.3084555086\n",
            "(MSE)：128.32485293369382\n"
          ],
          "name": "stdout"
        }
      ]
    },
    {
      "cell_type": "code",
      "metadata": {
        "id": "MnIX9RYVcfO6"
      },
      "source": [
        "date = data['date'][start:]\n",
        "df = pd.DataFrame({'date': date, 'real_cases': ydata, 'predicted_cases': fitted})\n",
        "df.to_csv('prediction_China.csv')"
      ],
      "execution_count": null,
      "outputs": []
    },
    {
      "cell_type": "code",
      "metadata": {
        "id": "c4jr4JRFcfO6"
      },
      "source": [
        "date = data['date'][start:]\n",
        "df = pd.DataFrame({'date': date, 'real_deaths': ydata, 'predicted_deaths': fitted})\n",
        "df.to_csv('death_China.csv')"
      ],
      "execution_count": null,
      "outputs": []
    },
    {
      "cell_type": "code",
      "metadata": {
        "id": "I130srTUcfO6"
      },
      "source": [
        "ydata_death = data['new_deaths'][start:]\n",
        "def fit_odeint2(x, beta, gamma, alpha, epsilon):\n",
        "    return integrate.odeint(seir_model, (S0, I0, R0, E0, D0), x, args=(beta, gamma, alpha, epsilon))[:,4]\n",
        "fitted_death = fit_odeint2(xdatap, *popt)"
      ],
      "execution_count": null,
      "outputs": []
    },
    {
      "cell_type": "code",
      "metadata": {
        "colab": {
          "base_uri": "https://localhost:8080/",
          "height": 265
        },
        "id": "uCYXkfVWcfO6",
        "outputId": "0b841d67-87f6-4682-f948-8cc02cce4032"
      },
      "source": [
        "plt.plot(xdata, ydata_death, 'o')\n",
        "plt.plot(xdatap, fitted_death)\n",
        "plt.show()"
      ],
      "execution_count": null,
      "outputs": [
        {
          "output_type": "display_data",
          "data": {
            "image/png": "[encoded data removed]",
            "text/plain": [
              "<Figure size 432x288 with 1 Axes>"
            ]
          },
          "metadata": {
            "tags": [],
            "needs_background": "light"
          }
        }
      ]
    },
    {
      "cell_type": "markdown",
      "metadata": {
        "id": "4Sy_vwXWcZkd"
      },
      "source": [
        "# **India**"
      ]
    },
    {
      "cell_type": "code",
      "metadata": {
        "colab": {
          "base_uri": "https://localhost:8080/"
        },
        "id": "yhJ80QzlcUZV",
        "outputId": "33449f64-2e35-466e-f857-2d4a5a70ea6e"
      },
      "source": [
        "data = pd.read_csv('India.csv')\n",
        "data = data.fillna(value=0)\n",
        "start = 65\n",
        "new_cases = data['new_cases'][start:]\n",
        "print(new_cases)"
      ],
      "execution_count": null,
      "outputs": [
        {
          "output_type": "stream",
          "text": [
            "65        22.0\n",
            "66         1.0\n",
            "67         2.0\n",
            "68         3.0\n",
            "69         0.0\n",
            "        ...   \n",
            "321    30548.0\n",
            "322    29163.0\n",
            "323    38617.0\n",
            "324    45576.0\n",
            "325    45882.0\n",
            "Name: new_cases, Length: 261, dtype: float64\n"
          ],
          "name": "stdout"
        }
      ]
    },
    {
      "cell_type": "code",
      "metadata": {
        "id": "8HvdwsRtcUZW"
      },
      "source": [
        "ydata = np.array(new_cases, dtype=float)\n",
        "xdata = np.array(new_cases.index, dtype=float)\n",
        "xdatap = xdata"
      ],
      "execution_count": null,
      "outputs": []
    },
    {
      "cell_type": "code",
      "metadata": {
        "id": "_WTdG9eUcUZW"
      },
      "source": [
        "def sir_model(y, x, beta, gamma):\n",
        "    S = -beta * y[0] * y[1] / N\n",
        "    R = gamma * y[1]\n",
        "    I = -(S + R)\n",
        "    \n",
        "    return S, I, R\n",
        "\n",
        "def fit_odeint(x, beta, gamma):\n",
        "    return integrate.odeint(sir_model, (S0, I0, R0), x, args=(beta, gamma))[:,1]"
      ],
      "execution_count": null,
      "outputs": []
    },
    {
      "cell_type": "code",
      "metadata": {
        "id": "t7GnFnppcUZW"
      },
      "source": [
        "def logistic(t,K,P0,r):\n",
        "    exp_value=np.exp(r*(t))\n",
        "    return (K*exp_value*41)/(K+(exp_value-1)*41)"
      ],
      "execution_count": null,
      "outputs": []
    },
    {
      "cell_type": "code",
      "metadata": {
        "id": "mA5G1VIdcUZW"
      },
      "source": [
        "def seir_model(y, x, beta, gamma, alpha, epsilon):\n",
        "    S = -beta * y[0] * y[1] / N\n",
        "    R = gamma * y[1]\n",
        "    D = alpha * y[1]\n",
        "    I = epsilon * y[3] - R - D\n",
        "    E = -(S + epsilon * y[3])\n",
        "    \n",
        "    return S, I, R, E, D\n",
        "\n",
        "def fit_odeint2(x, beta, gamma, alpha, epsilon):\n",
        "    return integrate.odeint(seir_model, (S0, I0, R0, E0, D0), x, args=(beta, gamma, alpha, epsilon))[:,1]"
      ],
      "execution_count": null,
      "outputs": []
    },
    {
      "cell_type": "code",
      "metadata": {
        "id": "v-tCJEuTcUZW"
      },
      "source": [
        "N = 1.3e9\n",
        "I0 = data['total_cases'][start]\n",
        "E0 = 0.0\n",
        "R0 = 0.0\n",
        "D0 = data['total_deaths'][start]\n",
        "S0 = N - I0 - E0 - D0 - R0"
      ],
      "execution_count": null,
      "outputs": []
    },
    {
      "cell_type": "code",
      "metadata": {
        "id": "wstyrKU_s2xC"
      },
      "source": [
        "N = 1.3e9\r\n",
        "I0 = data['total_cases'][start]\r\n",
        "R0 = data['total_deaths'][start]\r\n",
        "S0 = N - I0 - R0"
      ],
      "execution_count": null,
      "outputs": []
    },
    {
      "cell_type": "code",
      "metadata": {
        "colab": {
          "base_uri": "https://localhost:8080/",
          "height": 35
        },
        "id": "h-YTwRxzcUZW",
        "outputId": "8746cf09-07f6-4834-dd89-664d6b56294b"
      },
      "source": [
        "\"\"\"\n",
        "last_day = max(xdatap)\n",
        "period = 20\n",
        "for i in range(1,period):\n",
        "  xdatap = np.append(xdatap, last_day+i)\n",
        "\"\"\""
      ],
      "execution_count": null,
      "outputs": [
        {
          "output_type": "execute_result",
          "data": {
            "application/vnd.google.colaboratory.intrinsic+json": {
              "type": "string"
            },
            "text/plain": [
              "'\\nlast_day = max(xdatap)\\nperiod = 20\\nfor i in range(1,period):\\n  xdatap = np.append(xdatap, last_day+i)\\n'"
            ]
          },
          "metadata": {
            "tags": []
          },
          "execution_count": 224
        }
      ]
    },
    {
      "cell_type": "code",
      "metadata": {
        "colab": {
          "base_uri": "https://localhost:8080/"
        },
        "id": "OKLL0Qi9cUZW",
        "outputId": "88c95fa0-29e0-4972-cd99-3c4af6ef024a"
      },
      "source": [
        "popt, pcov = optimize.curve_fit(fit_odeint2, xdata, ydata)\n",
        "fitted = fit_odeint2(xdatap, *popt)\n",
        "\n",
        "print(popt)"
      ],
      "execution_count": null,
      "outputs": [
        {
          "output_type": "stream",
          "text": [
            "[-0.14040369 -0.04472221 -0.0453624   0.02417329]\n"
          ],
          "name": "stdout"
        },
        {
          "output_type": "stream",
          "text": [
            "/usr/local/lib/python3.6/dist-packages/scipy/integrate/odepack.py:248: ODEintWarning: Excess work done on this call (perhaps wrong Dfun type). Run with full_output = 1 to get quantitative information.\n",
            "  warnings.warn(warning_msg, ODEintWarning)\n"
          ],
          "name": "stderr"
        }
      ]
    },
    {
      "cell_type": "code",
      "metadata": {
        "id": "LdJ7v0PTsZVR"
      },
      "source": [
        "popt, pcov = optimize.curve_fit(fit_odeint, xdata, ydata)\r\n",
        "fitted = fit_odeint(xdatap, *popt)\r\n",
        "\r\n",
        "print(popt)"
      ],
      "execution_count": null,
      "outputs": []
    },
    {
      "cell_type": "code",
      "metadata": {
        "colab": {
          "base_uri": "https://localhost:8080/",
          "height": 265
        },
        "id": "3aV47yPQcUZX",
        "outputId": "43d33840-d19e-4412-da6e-dbfc2fb3b356"
      },
      "source": [
        "plt.plot(xdata[:259], ydata[:259], 'o')\n",
        "plt.plot(xdatap[:259], fitted[:259])\n",
        "plt.show()"
      ],
      "execution_count": null,
      "outputs": [
        {
          "output_type": "display_data",
          "data": {
            "image/png": "[encoded data removed]",
            "text/plain": [
              "<Figure size 432x288 with 1 Axes>"
            ]
          },
          "metadata": {
            "tags": [],
            "needs_background": "light"
          }
        }
      ]
    },
    {
      "cell_type": "code",
      "metadata": {
        "colab": {
          "base_uri": "https://localhost:8080/"
        },
        "id": "EWo3ChS4f7yv",
        "outputId": "9969104e-1256-4955-abb7-56cfd08a76e1"
      },
      "source": [
        "print(f\"(MSE)：{mean_squared_error(ydata, fitted)}\")\n",
        "print(f\"(MSE)：{mean_absolute_error(ydata, fitted)}\")"
      ],
      "execution_count": null,
      "outputs": [
        {
          "output_type": "stream",
          "text": [
            "(MSE)：487993530.27414244\n",
            "(MSE)：16215.742235221254\n"
          ],
          "name": "stdout"
        }
      ]
    },
    {
      "cell_type": "code",
      "metadata": {
        "id": "MInFjxTUcUZX"
      },
      "source": [
        "date = data['date'][start:]\n",
        "df = pd.DataFrame({'date': date, 'real_cases': ydata, 'predicted_cases': fitted})\n",
        "df.to_csv('prediction_India.csv')"
      ],
      "execution_count": null,
      "outputs": []
    },
    {
      "cell_type": "code",
      "metadata": {
        "id": "N7UIJTeMcUZX"
      },
      "source": [
        "date = data['date'][start:]\n",
        "df = pd.DataFrame({'date': date, 'real_deaths': ydata, 'predicted_deaths': fitted})\n",
        "df.to_csv('death_India.csv')"
      ],
      "execution_count": null,
      "outputs": []
    },
    {
      "cell_type": "code",
      "metadata": {
        "id": "H9ZX4qf7cUZX"
      },
      "source": [
        "ydata_death = data['new_deaths'][start:]\n",
        "def fit_odeint2(x, beta, gamma, alpha, epsilon):\n",
        "    return integrate.odeint(seir_model, (S0, I0, R0, E0, D0), x, args=(beta, gamma, alpha, epsilon))[:,4]\n",
        "fitted_death = fit_odeint2(xdatap, *popt)"
      ],
      "execution_count": null,
      "outputs": []
    },
    {
      "cell_type": "code",
      "metadata": {
        "colab": {
          "base_uri": "https://localhost:8080/",
          "height": 265
        },
        "id": "HGJhMoMKcUZX",
        "outputId": "d2a8107c-8b0c-48ff-b600-89241cc3eb62"
      },
      "source": [
        "plt.plot(xdata, ydata_death, 'o')\n",
        "plt.plot(xdatap, fitted_death)\n",
        "plt.show()"
      ],
      "execution_count": null,
      "outputs": [
        {
          "output_type": "display_data",
          "data": {
            "image/png": "[encoded data removed]",
            "text/plain": [
              "<Figure size 432x288 with 1 Axes>"
            ]
          },
          "metadata": {
            "tags": [],
            "needs_background": "light"
          }
        }
      ]
    }
  ]
}